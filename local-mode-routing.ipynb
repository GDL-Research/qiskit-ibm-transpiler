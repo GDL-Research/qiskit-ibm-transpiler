{
 "cells": [
  {
   "cell_type": "code",
   "execution_count": 1,
   "metadata": {},
   "outputs": [],
   "source": [
    "from qiskit.transpiler import PassManager\n",
    "from qiskit_ibm_transpiler.ai.routing import AIRouting\n",
    "from qiskit.circuit.library import EfficientSU2, QFT\n",
    "import logging\n",
    "\n",
    "logging.getLogger(\"qiskit_ibm_transpiler\").setLevel(logging.DEBUG)"
   ]
  },
  {
   "cell_type": "markdown",
   "metadata": {},
   "source": [
    "## Let's get the ibm_fez coupling map "
   ]
  },
  {
   "cell_type": "code",
   "execution_count": 2,
   "metadata": {},
   "outputs": [],
   "source": [
    "from qiskit_ibm_runtime import QiskitRuntimeService\n",
    "\n",
    "backend = QiskitRuntimeService().backend(\"ibm_fez\")\n",
    "fez_coupling_map = backend.coupling_map"
   ]
  },
  {
   "cell_type": "markdown",
   "metadata": {},
   "source": [
    "## Create circuits"
   ]
  },
  {
   "cell_type": "markdown",
   "metadata": {},
   "source": [
    "### EfficientSU2"
   ]
  },
  {
   "cell_type": "code",
   "execution_count": 12,
   "metadata": {},
   "outputs": [
    {
     "name": "stdout",
     "output_type": "stream",
     "text": [
      "Original su2_circuit -> Depth: 105, Gates(2q): 101\n"
     ]
    }
   ],
   "source": [
    "su2_circuit = EfficientSU2(101, entanglement=\"circular\", reps=1).decompose()\n",
    "print(\n",
    "    f\"Original su2_circuit -> Depth: {su2_circuit.depth()}, Gates(2q): {su2_circuit.num_nonlocal_gates()}\"\n",
    ")\n",
    "# su2_circuit.draw(output=\"mpl\", fold=-1, scale=0.2, style=\"iqp\")"
   ]
  },
  {
   "cell_type": "markdown",
   "metadata": {},
   "source": [
    "### QFT"
   ]
  },
  {
   "cell_type": "code",
   "execution_count": 5,
   "metadata": {},
   "outputs": [
    {
     "name": "stdout",
     "output_type": "stream",
     "text": [
      "Original qft_circuit -> Depth: 100, Gates(2q): 1250\n"
     ]
    }
   ],
   "source": [
    "qft_circuit = QFT(50).decompose()\n",
    "print(\n",
    "    f\"Original qft_circuit -> Depth: {qft_circuit.depth()}, Gates(2q): {qft_circuit.num_nonlocal_gates()}\"\n",
    ")\n",
    "# qft_circuit.draw(output=\"mpl\", fold=-1, scale=0.2, style=\"iqp\")"
   ]
  },
  {
   "cell_type": "markdown",
   "metadata": {},
   "source": [
    "## Optimize the circuit"
   ]
  },
  {
   "cell_type": "markdown",
   "metadata": {},
   "source": [
    "#### With Qiskit AI Transpiler"
   ]
  },
  {
   "cell_type": "code",
   "execution_count": 6,
   "metadata": {},
   "outputs": [
    {
     "name": "stderr",
     "output_type": "stream",
     "text": [
      "DEBUG:qiskit_ibm_transpiler.wrappers.ai_local_routing:Running local routing inference\n",
      "DEBUG:qiskit_ibm_transpiler.wrappers.ai_local_routing:Local routing inference completed\n",
      "DEBUG:qiskit_ibm_transpiler.wrappers.ai_local_routing:Running local routing inference\n",
      "DEBUG:qiskit_ibm_transpiler.wrappers.ai_local_routing:Local routing inference completed\n"
     ]
    }
   ],
   "source": [
    "ai_transpiler = PassManager(\n",
    "    [\n",
    "        AIRouting(\n",
    "            coupling_map=fez_coupling_map, optimization_level=1, layout_mode=\"optimize\"\n",
    "        )\n",
    "    ]\n",
    ")\n",
    "\n",
    "ai_su2_transpiled_circuit = ai_transpiler.run(su2_circuit)\n",
    "\n",
    "ai_qft_transpiled_circuit = ai_transpiler.run(qft_circuit)"
   ]
  },
  {
   "cell_type": "code",
   "execution_count": 7,
   "metadata": {},
   "outputs": [
    {
     "name": "stdout",
     "output_type": "stream",
     "text": [
      "Qiskit AI SU2 Transpiler -> Depth: 255, Gates(2q): 258\n",
      "Qiskit AI QFT Transpiler -> Depth: 537, Gates(2q): 3414\n"
     ]
    }
   ],
   "source": [
    "print(\n",
    "    f\"Qiskit AI SU2 Transpiler -> Depth: {ai_su2_transpiled_circuit.depth()}, Gates(2q): {ai_su2_transpiled_circuit.num_nonlocal_gates()}\"\n",
    ")\n",
    "\n",
    "# ai_su2_transpiled_circuit.draw(output=\"mpl\", fold=-1, scale=0.2, style=\"iqp\")\n",
    "\n",
    "print(\n",
    "    f\"Qiskit AI QFT Transpiler -> Depth: {ai_qft_transpiled_circuit.depth()}, Gates(2q): {ai_qft_transpiled_circuit.num_nonlocal_gates()}\"\n",
    ")"
   ]
  },
  {
   "cell_type": "markdown",
   "metadata": {},
   "source": [
    "#### With Qiskit lvl3 Transpiler (local)"
   ]
  },
  {
   "cell_type": "code",
   "execution_count": 13,
   "metadata": {},
   "outputs": [],
   "source": [
    "from qiskit.transpiler.preset_passmanagers import generate_preset_pass_manager\n",
    "\n",
    "qiskit_lvl3_transpiler = generate_preset_pass_manager(\n",
    "    optimization_level=3, coupling_map=fez_coupling_map\n",
    ")\n",
    "\n",
    "lvl3_su2_transpiled_circuit = qiskit_lvl3_transpiler.run(su2_circuit)\n",
    "\n",
    "lvl3_qft_transpiled_circuit = qiskit_lvl3_transpiler.run(qft_circuit)"
   ]
  },
  {
   "cell_type": "code",
   "execution_count": 14,
   "metadata": {},
   "outputs": [
    {
     "name": "stdout",
     "output_type": "stream",
     "text": [
      "Qiskit lvl3 SU2 Transpiler -> Depth: 314, Gates(2q): 284\n",
      "Qiskit lvl3 QFT Transpiler -> Depth: 513, Gates(2q): 2639\n"
     ]
    }
   ],
   "source": [
    "print(\n",
    "    f\"Qiskit lvl3 SU2 Transpiler -> Depth: {lvl3_su2_transpiled_circuit.depth()}, Gates(2q): {lvl3_su2_transpiled_circuit.num_nonlocal_gates()}\"\n",
    ")\n",
    "\n",
    "# lvl3_su2_transpiled_circuit.draw(output=\"mpl\", fold=-1, scale=0.2, style=\"iqp\")\n",
    "\n",
    "print(\n",
    "    f\"Qiskit lvl3 QFT Transpiler -> Depth: {lvl3_qft_transpiled_circuit.depth()}, Gates(2q): {lvl3_qft_transpiled_circuit.num_nonlocal_gates()}\"\n",
    ")"
   ]
  },
  {
   "cell_type": "code",
   "execution_count": 15,
   "metadata": {},
   "outputs": [
    {
     "name": "stderr",
     "output_type": "stream",
     "text": [
      "DEBUG:qiskit_ibm_transpiler.wrappers.ai_local_routing:Running local routing inference\n",
      "DEBUG:qiskit_ibm_transpiler.wrappers.ai_local_routing:Local routing inference completed\n",
      "DEBUG:qiskit_ibm_transpiler.wrappers.ai_local_routing:Running local routing inference\n",
      "DEBUG:qiskit_ibm_transpiler.wrappers.ai_local_routing:Local routing inference completed\n"
     ]
    }
   ],
   "source": [
    "from qiskit_ibm_transpiler.ai import generate_ai_pass_manager\n",
    "\n",
    "ai_transpiler_pass_manager = generate_ai_pass_manager(\n",
    "    coupling_map=fez_coupling_map,\n",
    "    ai_optimization_level=3,\n",
    "    optimization_level=3,\n",
    "    ai_layout_mode=\"optimize\",\n",
    ")\n",
    "\n",
    "ai_su2_full_transpiled_circuit = ai_transpiler_pass_manager.run(su2_circuit)\n",
    "\n",
    "ai_qft_full_transpiled_circuit = ai_transpiler_pass_manager.run(qft_circuit)"
   ]
  },
  {
   "cell_type": "code",
   "execution_count": 16,
   "metadata": {},
   "outputs": [
    {
     "name": "stdout",
     "output_type": "stream",
     "text": [
      "Qiskit AI SU2 Full Transpiler -> Depth: 192, Gates(2q): 195\n",
      "Qiskit AI QFT Full Transpiler -> Depth: 383, Gates(2q): 2822\n"
     ]
    }
   ],
   "source": [
    "print(\n",
    "    f\"Qiskit AI SU2 Full Transpiler -> Depth: {ai_su2_full_transpiled_circuit.depth()}, Gates(2q): {ai_su2_full_transpiled_circuit.num_nonlocal_gates()}\"\n",
    ")\n",
    "\n",
    "# ai_su2_transpiled_circuit.draw(output=\"mpl\", fold=-1, scale=0.2, style=\"iqp\")\n",
    "\n",
    "print(\n",
    "    f\"Qiskit AI QFT Full Transpiler -> Depth: {ai_qft_full_transpiled_circuit.depth()}, Gates(2q): {ai_qft_full_transpiled_circuit.num_nonlocal_gates()}\"\n",
    ")"
   ]
  }
 ],
 "metadata": {
  "kernelspec": {
   "display_name": ".venv-qiskit-ibm-transpiler",
   "language": "python",
   "name": "python3"
  },
  "language_info": {
   "codemirror_mode": {
    "name": "ipython",
    "version": 3
   },
   "file_extension": ".py",
   "mimetype": "text/x-python",
   "name": "python",
   "nbconvert_exporter": "python",
   "pygments_lexer": "ipython3",
   "version": "3.11.5"
  }
 },
 "nbformat": 4,
 "nbformat_minor": 2
}
